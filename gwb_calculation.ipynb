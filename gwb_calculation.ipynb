{
 "cells": [
  {
   "cell_type": "markdown",
   "metadata": {},
   "source": [
    "# Lower Limit on the Stochastic GWB \n",
    "\n",
    "To find a rough estimate of the lower limit on the stochastic GWB from our source, we will use the Phinney (2001) formalism. Eq. 5 in that paper gives us the characteristic strain of the background as a function of frequency:\n",
    "\n",
    "$$h_c^2(f) = \\frac{4G}{\\pi c^2} \\frac{1}{f^2} \\int n(z) \\frac{1}{1+z} \\left( f_r \\frac{dE_{gw}}{df_r}\\right) \\bigg|_{~f_r = f(1+z)} dz$$\n",
    "\n",
    "where $n(z)$ is the number density of sources, $f_r$ is the frequency in the rest-frame of the source, and \n",
    "\n",
    "$$\\frac{dE_{gw}}{df_r} = \\frac{\\pi}{3G} \\frac{(G\\mathcal{M})^{5/3}}{(\\pi f_r)^{1/3}}$$\n",
    "\n",
    "This equation implicitly assumes just one chirp mass for all objects. However, we would like to integrate over a range of chirp masses. We then want the number density *per mass* of objects (to make the units right). Then, our equation is:\n",
    "\n",
    "$$h_c^2(f) = \\frac{4G}{\\pi c^2} \\frac{1}{f^2} \\int n(z, \\mathcal{M}) \\frac{1}{1+z} \\left( f_r \\frac{\\pi}{3G} \\frac{(G\\mathcal{M})^{5/3}}{(\\pi f_r)^{1/3}}\\right) \\bigg|_{~f_r = f(1+z)} dz~d\\mathcal{M}$$\n",
    "\n",
    "We will compute $h_c(f)$ for three different assumptions about the number density:\n",
    "1. Our object is the only one in SDSS out to $z=0.2$ and the number density of objects is constant with both redshift and chirp mass.\n",
    "2. All objects like J1010+1413 are also binary AGN that should merge by today. In addition, we allow the number density of objects to vary with redshift in conjunction with the observed AGN number density evolution.\n",
    "3. Same as the second case, but we allow for the number density to vary with mass, following the observed local BH mass function.\n",
    "\n",
    "Note that we here ignore the issue of *when* exactly these sources will be in the PTA band -- we just assume that all of our sources would be in the PTA band by today. We also only consider equal mass mergers."
   ]
  },
  {
   "cell_type": "markdown",
   "metadata": {},
   "source": [
    "## Case 1: Only Object in SDSS + Constant Number Density\n",
    "\n",
    "We will assume that the number density per mass is *constant* and equal to what we find for our object. In other words,\n",
    "\n",
    "Specifically, we will calculate our number density per mass as:\n",
    "\n",
    "$$n_0 = \\frac{N}{\\Delta V \\Delta \\mathcal{M}}$$\n",
    "\n",
    "where $N$ is the number of sources. Note that now this number does not depend on the actual integration variables anymore. So, pulling out the number density per mass and cleaning up our equation, we find:\n",
    "\n",
    "$$h_c^2(f) = \\frac{4}{3\\pi^{1/3}c^2} \\frac{n_0}{f^{4/3}} \\int \\frac{(G\\mathcal{M})^{5/3}}{(1+z)^{1/3}} dz~d\\mathcal{M}$$\n",
    "\n",
    "To keep our code general, we will integrate from $z_{\\rm{min}}$ to $z_{\\rm{max}}$ and $\\mathcal{M}_{\\rm{min}}$ to $\\mathcal{M}_{\\rm{max}}$. Then, our final equation is:\n",
    "\n",
    "$$h_c^2(f) = \\frac{3G^{5/3}}{4\\pi^{1/3}c^2} \\frac{n_0}{f^{4/3}} \\left[(1+z_{\\rm{max}})^{2/3} - (1+z_{\\rm{min}})^{2/3}\\right]\\times \\left[\\mathcal{M}_{\\rm{max}}^{8/3} - \\mathcal{M}_{\\rm{min}}^{8/3}\\right]$$"
   ]
  },
  {
   "cell_type": "markdown",
   "metadata": {},
   "source": [
    "## Case 2: J1010+1413 has lots of buddies + number density changes with redshift\n",
    "\n",
    "In this case, we need to be a bit more careful with how we calculate the number density.\n",
    "\n",
    "Let $N_0$ refer to the number density of objects within the narrow redshift range around J1010+1413. Specifically,\n",
    "\n",
    "$$N_0 = f_{\\rm{merger}}\\frac{N}{\\Delta V(z=0.18 - 0.22)}$$\n",
    "\n",
    "where $N$ is the total number of objects that are like J1010+1413 in the redshift range z=0.18-0.22 and $f_{\\rm{merger}}$ is the observed fraction of AGN that are in merging systems at z=0.25 and with $L_{\\rm{AGN}}=10^{46}~\\rm{erg/s}$ (see Hickox+ 2014, Fig. 6, dashed, blue line).\n",
    "\n",
    "This will anchor the number density of objects contributing to the PTA band *today*. To get the number density as a function of redshift, we simply multiply this by the functional form of the observed AGN number density (Hopkins 2007), $\\hat{N}(z)$.\n",
    "\n",
    "Finally, we obtain a number density/mass just as before:\n",
    "\n",
    "$$n(z,\\mathcal{M}) = \\frac{N_0\\ \\hat{N}(z)}{\\Delta \\mathcal{M}} = n_0\\ \\hat{N}(z)$$\n",
    "\n",
    "\n",
    "For our characteristic strain, we now have:\n",
    "\n",
    "\n",
    "$$h_c^2(f) = \\frac{4}{3\\pi^{1/3}c^2} \\frac{n_0}{f^{4/3}} \\int (G\\mathcal{M})^{5/3} \\frac{\\hat{N}(z)}{(1+z)^{1/3}} dz~d\\mathcal{M}$$\n",
    "\n",
    "\n",
    "We will need to do the redshift integral numerically, but we can at least do the mass integral analytically, giving us:\n",
    "\n",
    "$$h_c^2(f) = \\frac{G^{5/3}}{2\\pi^{1/3}c^2} \\frac{n_0}{f^{4/3}} \\left[\\mathcal{M}_{\\rm{max}}^{8/3} - \\mathcal{M}_{\\rm{min}}^{8/3}\\right] \\int \\frac{\\hat{N}(z)}{(1+z)^{1/3}} dz $$"
   ]
  },
  {
   "cell_type": "markdown",
   "metadata": {},
   "source": [
    "## Case 3: J1010+1413 has lots of buddies + number density changes with redshift & mass\n",
    "\n",
    "In this case, we will allow the number density to vary with mass as well. In other words, \n",
    "\n",
    "$$n(z, \\mathcal{M}) = n_0 p(\\mathcal{M}) \\hat{N}(z)$$\n",
    "\n",
    "where $n_0$ is calculated as in case 2, and $p(\\mathcal{M})$ is the probability of having a particular chirp mass. This is set by using the BH mass function at z=0 given by Marconi+ 2004 and normalizing this function to the number density at z=0 from case 2. We set our mass ratio = 1, thus there is a simple 1-1 and onto transformation from the BH mass function  to the chirp mass function. We just transform this by setting appropriate chirp mass limits in our integration.\n",
    "\n",
    "Then, for our characteristic strain, we have:\n",
    "\n",
    "\n",
    "$$h_c^2(f) = \\frac{4}{3\\pi^{1/3}c^2} \\frac{n_0}{f^{4/3}} \\int (G\\mathcal{M})^{5/3} \\frac{p(\\mathcal{M})\\hat{N}(z)}{(1+z)^{1/3}} dz~d\\mathcal{M}$$\n",
    "\n",
    "We will have to do both of these integrals numerically now."
   ]
  },
  {
   "cell_type": "code",
   "execution_count": 1,
   "metadata": {
    "collapsed": false,
    "jupyter": {
     "outputs_hidden": false
    }
   },
   "outputs": [],
   "source": [
    "## Import packages\n",
    "import numpy as np\n",
    "import astropy.units as u\n",
    "import astropy.constants as const\n",
    "from astropy.cosmology import WMAP9, z_at_value\n",
    "import seaborn as sns\n",
    "import matplotlib.pyplot as plt\n",
    "from astropy.stats import poisson_conf_interval\n",
    "from scipy.integrate import quad, cumtrapz\n",
    "from scipy.interpolate import UnivariateSpline\n",
    "from IPython.display import display, Math\n",
    "\n",
    "## Set plot parameters\n",
    "%matplotlib inline\n",
    "sns.set_context(\"paper\", font_scale=1.5)\n",
    "sns.set_style('ticks')\n",
    "sns.set_palette('colorblind')\n",
    "figparams = {'font.family': 'DejaVu Sans',\n",
    "             'font.serif':'Times',\n",
    "             'text.latex.preamble': [r'\\usepackage{amsmath}'],\n",
    "             'text.usetex': True,\n",
    "             'hatch.linewidth' : 3.0}\n",
    "plt.rcParams.update(figparams)\n",
    "cs = plt.rcParams['axes.prop_cycle'].by_key()['color']"
   ]
  },
  {
   "cell_type": "code",
   "execution_count": 2,
   "metadata": {
    "collapsed": false,
    "jupyter": {
     "outputs_hidden": false
    }
   },
   "outputs": [
    {
     "data": {
      "text/latex": [
       "$\\displaystyle M_{north} = 3.4e+08\\,M_{\\odot}$"
      ],
      "text/plain": [
       "<IPython.core.display.Math object>"
      ]
     },
     "metadata": {},
     "output_type": "display_data"
    },
    {
     "data": {
      "text/latex": [
       "$\\displaystyle M_{south} = 4.4e+08\\,M_{\\odot}$"
      ],
      "text/plain": [
       "<IPython.core.display.Math object>"
      ]
     },
     "metadata": {},
     "output_type": "display_data"
    },
    {
     "data": {
      "text/latex": [
       "$\\displaystyle M_{tot, assumed} = 8.0e+08\\,M_{\\odot}, M_{tot, calc} = 7.8e+08 M_{\\odot}$"
      ],
      "text/plain": [
       "<IPython.core.display.Math object>"
      ]
     },
     "metadata": {},
     "output_type": "display_data"
    },
    {
     "data": {
      "text/latex": [
       "$\\displaystyle q = 1.00, q_{calc} = 0.78$"
      ],
      "text/plain": [
       "<IPython.core.display.Math object>"
      ]
     },
     "metadata": {},
     "output_type": "display_data"
    },
    {
     "data": {
      "text/latex": [
       "$\\displaystyle \\mathcal{M}_{assumed} \\in [4.35e+07, 4.35e+09]\\,M_{\\odot}$"
      ],
      "text/plain": [
       "<IPython.core.display.Math object>"
      ]
     },
     "metadata": {},
     "output_type": "display_data"
    },
    {
     "data": {
      "text/latex": [
       "$\\displaystyle \\mathcal{M}_{calc} \\in [4.31e+07, 4.31e+09]\\,M_{\\odot}$"
      ],
      "text/plain": [
       "<IPython.core.display.Math object>"
      ]
     },
     "metadata": {},
     "output_type": "display_data"
    }
   ],
   "source": [
    "# measured parameters (Goulding+ 2019)\n",
    "l_agn_north = 4.2e46 * u.erg / u.s\n",
    "l_agn_south = 5.4e46 * u.erg / u.s\n",
    "min_mbh = 4e8 * u.Msun\n",
    "redshift = 0.2\n",
    "\n",
    "# Assumed parameters\n",
    "mtot_bh = 8e8 * u.Msun\n",
    "q = 1.  # i.e. assume equal mass mergers\n",
    "\n",
    "# Calculated parameters\n",
    "# assuming L_edd / L = 1 for mass calculations (Goulding+ 2019)\n",
    "m_agn_north = l_agn_north.to(u.Lsun) * (1e8 * u.Msun) / (3.2e12 * u.Lsun)  # approximation from Merritt 2013, pp. 42\n",
    "m_agn_south = l_agn_south.to(u.Lsun) * (1e8 * u.Msun) / (3.2e12 * u.Lsun)\n",
    "mtot_bh_calc = m_agn_north + m_agn_south\n",
    "q_calc = m_agn_north / m_agn_south\n",
    "display(Math(r\"M_{{north}} = {0:.1e}\\,M_{{\\odot}}\".format(m_agn_north.value)))\n",
    "display(Math(r\"M_{{south}} = {0:.1e}\\,M_{{\\odot}}\".format(m_agn_south.value)))\n",
    "display(Math(r\"M_{{tot, assumed}} = {0:.1e}\\,M_{{\\odot}}, \"\n",
    "      \"M_{{tot, calc}} = {1:.1e} M_{{\\odot}}\".format(mtot_bh.value, mtot_bh_calc.value)))\n",
    "display(Math(r\"q = {0:.2f}, q_{{calc}} = {1:.2f}\".format(q, q_calc)))\n",
    "\n",
    "# population parameters\n",
    "lagn_min = 1e46 * u.erg / u.s  # min AGN lum for this type of source (Goulding+ 2019)\n",
    "n_arcsecsq_lowest = 1. / 9380. * (u.deg ** -2)  # assuming our source is the only one in SDSS DR7 spectroscopic catalog (Abazajian+ 2009)\n",
    "                                        ## this is the catalog used by Mullaney 2013.\n",
    "merger_frac = 0.25  # (Hickox+ 2014, Fig. 6)\n",
    "\n",
    "# integration parameters for GWB (Goulding+ 2019)\n",
    "max_mchirp = (q / (1 + q) ** 2) ** (3. / 5.) * 1.e10 * u.Msun \n",
    "min_mchirp = (q / (1 + q) ** 2) ** (3. / 5.) * 1.e8 * u.Msun\n",
    "\n",
    "max_mchirp_calc = (q_calc / (1 + q_calc) ** 2) ** (3. / 5.) * 1.e10 * u.Msun \n",
    "min_mchirp_calc = (q_calc / (1 + q_calc) ** 2) ** (3. / 5.) * 1.e8 * u.Msun\n",
    "\n",
    "display(Math(r\"\\mathcal{{M}}_{{assumed}} \\in [{0:.2e}, \"\n",
    "             \"{1:.2e}]\\,M_{{\\odot}}\".format(min_mchirp.value, max_mchirp.value)))\n",
    "display(Math(r\"\\mathcal{{M}}_{{calc}} \\in [{0:.2e}, \"\n",
    "             \"{1:.2e}]\\,M_{{\\odot}}\".format(min_mchirp_calc.value, max_mchirp_calc.value)))\n",
    "\n",
    "\n",
    "zmin = 0.0\n",
    "zmax = 1.0\n",
    "\n",
    "## set up plotting region for current best pta upper limits and future limits\n",
    "freq = (np.logspace(-2, 2) / u.yr).to(u.Hz)\n",
    "fidhz = (1. / u.yr).to(u.Hz)\n",
    "ptalimit = 1.45e-15 * (freq / fidhz) ** (-2./3.)\n",
    "iptafuturelimit = 4.e-16 * (freq / fidhz) ** (-2./3.)"
   ]
  },
  {
   "cell_type": "code",
   "execution_count": 3,
   "metadata": {
    "collapsed": false,
    "jupyter": {
     "outputs_hidden": false
    }
   },
   "outputs": [],
   "source": [
    "## Define functions\n",
    "def chirp_mass(m1, m2):\n",
    "    \"\"\"Finds the chirp mass given the two black hole masses.\n",
    "    \n",
    "    Parameters\n",
    "    ----------\n",
    "    m1 : astropy.units.Quantity\n",
    "        Mass of the first black hole.\n",
    "        Units: Mass\n",
    "    m2 : astropy.units.Quantity\n",
    "        Mass of the second black hole.\n",
    "        Units: Mass\n",
    "    \n",
    "    Returns\n",
    "    -------\n",
    "    astropy.units.Quantity\n",
    "        Chirp mass for the binary system, in the same mass units as `m1` and `m2`.\n",
    "    \n",
    "    \"\"\"\n",
    "    return (m1 * m2 * (m1 + m2) ** (-1. / 3.)) ** (3. / 5.)\n",
    "\n",
    "\n",
    "def numdensity(number_per_square_ang_, zmin_, zmax_):\n",
    "    \"\"\"Find number density of objects given number per sq angular size.\n",
    "    \n",
    "    Parameters\n",
    "    ----------\n",
    "    number_per_square_ang_ : astropy.units.Quantity\n",
    "        Number density of black holes per square angle\n",
    "        Units: Angle ** -2\n",
    "    zmin_ : float\n",
    "        Minimum redshift\n",
    "    zmax_ : float\n",
    "        Maximum redshift\n",
    "        \n",
    "    Returns\n",
    "    -------\n",
    "    astropy.units.Quantity\n",
    "        The number density of objects in a given volume\n",
    "        Units: Mpc ** -3\n",
    "\n",
    "    \"\"\"\n",
    "    ##first convert to number/full sky\n",
    "    num_full_sky = number_per_square_ang_ * (41253. * u.deg ** 2)\n",
    "    print(\"num_full_sky:\", num_full_sky)\n",
    "    ##now find total comoving volume between redshifts\n",
    "    vol = WMAP9.comoving_volume(zmax_) - WMAP9.comoving_volume(zmin_)\n",
    "    return (num_full_sky / vol).to(1 / u.Mpc ** 3)\n",
    "\n",
    "\n",
    "def hc_constant_n(freq_, num_density_per_mass_, zmin_, zmax_, chirp_mass_min_, chirp_mass_max_):\n",
    "    \"\"\"Characteristic strain for n(z, M) = const.\n",
    "    \n",
    "    Calculated using the formula from Phinney 2001, eq. 11 assuming constant \n",
    "    n(z, M) and allowing for integration of M.\n",
    "    \n",
    "    Parameters\n",
    "    ----------\n",
    "    freq_ : astropy.units.Quantity\n",
    "        Frequency at which strain is being calculated\n",
    "        Units: Hz\n",
    "    num_density_per_mass_ : astropy.units.Quantity\n",
    "        Number density per unit mass of mergers today\n",
    "    zmin_ : float\n",
    "        Minimum redshift to integrate over\n",
    "    zmax_ : float\n",
    "        Maximum redshift to integrate over\n",
    "    chirp_mass_min_ : astropy.units.Quantity\n",
    "        Minimum chirp mass to integrate over\n",
    "        Units: Mass\n",
    "    chirp_mass_max_ : \n",
    "        Maximum chirp mass to integrate over\n",
    "        Units: Mass\n",
    "    \n",
    "    Returns\n",
    "    -------\n",
    "    astropy.units.Quantity\n",
    "        The characteristic strain at `freq_`, integrated over mass range considered.\n",
    "    \n",
    "    \"\"\"\n",
    "    coeffs = 3. * const.G ** (5. / 3.) / (4. * np.pi ** (1. / 3.) * const.c ** 2)\n",
    "    numdens = num_density_per_mass_ * ((1 + zmax_) ** (2. / 3.) - (1 + zmin_) ** (2./3.))\n",
    "    massfterm = (chirp_mass_max_ ** (8. / 3.) - chirp_mass_min_ ** (8. / 3.)) * freq_ ** (- 4. / 3.) \n",
    "    # is the above integral missing a factor of 3 / 8?\n",
    "    # no, 3/4 in coefficients - combination of z and M integrals\n",
    "    return ((coeffs * massfterm * numdens) ** (1. / 2.)).to('')\n",
    "\n",
    "\n",
    "def zint(nz_, zmin_, zmax_):\n",
    "    \"\"\"Integrates number density of mergers over cosmic time.\n",
    "    \n",
    "    For use with calculating characteristic strain.\n",
    "    \n",
    "    Parameters\n",
    "    ----------\n",
    "    nz_ : function\n",
    "        lambda function to calculate number density\n",
    "    zmin_ : float\n",
    "        Minimum redshift to integrate over\n",
    "    zmax_ : float\n",
    "        Maximum redshift to integrate over\n",
    "    \n",
    "    Returns\n",
    "    -------\n",
    "    float\n",
    "        Comoving number density of merged remnants in the redhsift range considered.\n",
    "        \n",
    "    \"\"\"\n",
    "    integral = lambda z: nz_(z)/(1+z)**(-1./3.)\n",
    "    return quad(integral, zmin_, zmax_)[0]\n",
    "def hc_with_nz(freq_, nzm_, zmin_, zmax_, chirp_mass_min_, chirp_mass_max_):\n",
    "    \"\"\"Characteristic strain for n(z, M) = n(z).\n",
    "    \n",
    "    Calculated using the formula from Phinney 2001, eq. 11 assuming constant \n",
    "    n(M) with n(z) variable.\n",
    "    \n",
    "    Parameters\n",
    "    ----------\n",
    "    freq_ : astropy.units.Quantity\n",
    "        Frequency at which strain is being calculated\n",
    "        Units: Hz\n",
    "    nzm_ : function\n",
    "        lambda function for the number density as function of z\n",
    "    zmin_ : float\n",
    "        Minimum redshift to integrate over\n",
    "    zmax_ : float\n",
    "        Maximum redshift to integrate over\n",
    "    chirp_mass_min_ : astropy.units.Quantity\n",
    "        Minimum chirp mass to integrate over\n",
    "        Units: Mass\n",
    "    chirp_mass_max_ : \n",
    "        Maximum chirp mass to integrate over\n",
    "        Units: Mass\n",
    "    \n",
    "    Returns\n",
    "    -------\n",
    "    astropy.units.Quantity\n",
    "        The characteristic strain at `freq_`, integrated over mass range and z.\n",
    "    \n",
    "    \"\"\"\n",
    "    coeffs = const.G ** (5. / 3.) / (2. * np.pi ** (1. / 3.) * const.c ** 2)\n",
    "    # should be a factor of 1/2, not 3/4\n",
    "    numdensz = zint(nzm_, zmin_, zmax_) * 1. / u.Mpc ** 3 * 1. / u.Msun\n",
    "    massfterm = (chirp_mass_max_ ** (8. / 3.) - chirp_mass_min_ ** (8. / 3.)) * freq_ ** (- 4. / 3.)\n",
    "    return ((coeffs * massfterm * numdensz) ** (1. / 2.)).to('')\n",
    "def massint(nzm_, mmin_, mmax_):\n",
    "    \"\"\"Integral over chirp mass for characteristic strain.\n",
    "    \n",
    "    Parameters\n",
    "    ----------\n",
    "    nzm_ : function\n",
    "        lambda function for the number density of objects as a function of mass\n",
    "    mmin_ : astropy.units.Quanitity\n",
    "        minimum mass to integrate over\n",
    "    mmax_ : astropy.units.Quantity\n",
    "        maximum mass to integrate over\n",
    "    \n",
    "    Returns\n",
    "    -------\n",
    "    float\n",
    "        Number density integrated over chirp mass range\n",
    "    \n",
    "    \"\"\"\n",
    "    integral = lambda m: (m) ** (5./3.) * nzm_(m)\n",
    "    return quad(integral, mmin_.value, mmax_.value)[0]\n",
    "def hc_with_nzm(freq_, nzm_, massf_, zmin_, zmax_, chirp_mass_min_, chirp_mass_max):\n",
    "    \"\"\"Characteristic strain with number density variable with redshift and chirp mass.\n",
    "    \n",
    "    Calculated using the formula from Phinney 2001, eq. 11 assuming constant \n",
    "    n(z, M) variable.\n",
    "    \n",
    "    Parameters\n",
    "    ----------\n",
    "    freq_ : astropy.units.Quantity\n",
    "        Frequency at which strain is being calculated\n",
    "        Units: Hz\n",
    "    nzm_ : function\n",
    "        lambda function for the number density as function of z\n",
    "    massf_ : function \n",
    "        lambda function for the number density as function of M\n",
    "    zmin_ : float\n",
    "        Minimum redshift to integrate over\n",
    "    zmax_ : float\n",
    "        Maximum redshift to integrate over\n",
    "    chirp_mass_min_ : astropy.units.Quantity\n",
    "        Minimum chirp mass to integrate over\n",
    "        Units: Mass\n",
    "    chirp_mass_max_ : \n",
    "        Maximum chirp mass to integrate over\n",
    "        Units: Mass\n",
    "    \n",
    "    Returns\n",
    "    -------\n",
    "    astropy.units.Quantity\n",
    "        The characteristic strain at `freq_`, integrated over mass range and z.\n",
    "    \n",
    "    \"\"\"\n",
    "    coeffs = 4. * const.G ** (5. / 3.) / (3. * np.pi ** (1. / 3.) * const.c ** 2)\n",
    "    numdensz = zint(nzm_, zmin_, zmax_) * 1. / u.Mpc ** 3 * 1. / u.Msun\n",
    "    massterm = massint(massf_, chirp_mass_min_, chirp_mass_max) * u.Msun ** (8. / 3.)\n",
    "    fterm = freq_ ** (- 4. / 3.)\n",
    "    return ((coeffs * fterm * numdensz * massterm) ** (1. / 2.)).to('')"
   ]
  },
  {
   "cell_type": "markdown",
   "metadata": {},
   "source": [
    "## Case 1"
   ]
  },
  {
   "cell_type": "code",
   "execution_count": 4,
   "metadata": {
    "collapsed": false,
    "jupyter": {
     "outputs_hidden": false
    }
   },
   "outputs": [
    {
     "name": "stdout",
     "output_type": "stream",
     "text": [
      "num_full_sky: 4.397974413646056\n",
      "Lowest number density is:  1.8605414725377198e-09 1 / Mpc3\n"
     ]
    }
   ],
   "source": [
    "## First, let's calculate the number density in Mpc^-3\n",
    "lowestnd = numdensity(n_arcsecsq_lowest, 0., redshift)\n",
    "print(\"Lowest number density is: \", lowestnd)"
   ]
  },
  {
   "cell_type": "code",
   "execution_count": 5,
   "metadata": {
    "collapsed": false,
    "jupyter": {
     "outputs_hidden": false
    }
   },
   "outputs": [
    {
     "name": "stdout",
     "output_type": "stream",
     "text": [
      "Total number of black holes is:  296.4394002243339\n"
     ]
    }
   ],
   "source": [
    "## How many SMBH binaries does this give us in our total integration volume?\n",
    "totn_lowest = lowestnd * WMAP9.comoving_volume(zmax)\n",
    "print(\"Total number of black holes is: \", totn_lowest)"
   ]
  },
  {
   "cell_type": "code",
   "execution_count": 6,
   "metadata": {},
   "outputs": [
    {
     "data": {
      "text/latex": [
       "$[[3.2141557 \\times 10^{-10}],~\n",
       " [1.8605415 \\times 10^{-9}],~\n",
       " [6.138906 \\times 10^{-9}]] \\; \\mathrm{\\frac{1}{Mpc^{3}}}$"
      ],
      "text/plain": [
       "<Quantity [[3.21415570e-10],\n",
       "           [1.86054147e-09],\n",
       "           [6.13890600e-09]] 1 / Mpc3>"
      ]
     },
     "execution_count": 6,
     "metadata": {},
     "output_type": "execute_result"
    }
   ],
   "source": [
    "## Let's calculate the 1 sigma conf. intervals -- first just get abs. number in redshift range\n",
    "lowestnd_l, lowestnd_h = poisson_conf_interval(1.0, interval='frequentist-confidence',sigma=1)\n",
    "\n",
    "## Now multiply by num density to get the conf intervals in number density\n",
    "lowestnd_l *= lowestnd\n",
    "lowestnd_h *= lowestnd\n",
    "\n",
    "## Finally, let's stack these together.\n",
    "nd_1 = np.vstack([lowestnd_l, lowestnd, lowestnd_h])\n",
    "\n",
    "nd_1"
   ]
  },
  {
   "cell_type": "code",
   "execution_count": 7,
   "metadata": {},
   "outputs": [
    {
     "data": {
      "text/latex": [
       "$\\displaystyle n_{1} = 4.32e-19_{-3.57e-19}^{+9.93e-19}\\,M_{\\odot}^{-1} Mpc^{-3}$"
      ],
      "text/plain": [
       "<IPython.core.display.Math object>"
      ]
     },
     "metadata": {},
     "output_type": "display_data"
    },
    {
     "data": {
      "text/latex": [
       "$\\displaystyle n_{1, calc} = 4.36e-19_{-3.61e-19}^{+1.00e-18}\\,M_{\\odot}^{-1} Mpc^{-3}$"
      ],
      "text/plain": [
       "<IPython.core.display.Math object>"
      ]
     },
     "metadata": {},
     "output_type": "display_data"
    }
   ],
   "source": [
    "## Now calculate the number density/mass for all\n",
    "DeltaM = max_mchirp - min_mchirp\n",
    "DeltaM_calc = max_mchirp_calc - min_mchirp_calc\n",
    "ndm_1 = nd_1 / DeltaM\n",
    "ndm_1_calc = nd_1 / DeltaM_calc\n",
    "display(Math(r\"n_{{1}} = {0:.2e}_{{-{1:.2e}}}^{{+{2:.2e}}}\\,M_{{\\odot}}^{{-1}} Mpc^{{-3}}\".format(ndm_1[1, 0].value,\n",
    "                                                             ndm_1[1, 0].value - ndm_1[0, 0].value,\n",
    "                                                             ndm_1[2, 0].value - ndm_1[1, 0].value)))\n",
    "display(Math(r\"n_{{1, calc}} = {0:.2e}_{{-{1:.2e}}}^{{+{2:.2e}}}\\,M_{{\\odot}}^{{-1}} Mpc^{{-3}}\".format(ndm_1_calc[1, 0].value,\n",
    "                                                             ndm_1_calc[1, 0].value - ndm_1_calc[0, 0].value,\n",
    "                                                             ndm_1_calc[2, 0].value - ndm_1_calc[1, 0].value)))"
   ]
  },
  {
   "cell_type": "code",
   "execution_count": 8,
   "metadata": {
    "collapsed": false,
    "jupyter": {
     "outputs_hidden": false
    }
   },
   "outputs": [
    {
     "data": {
      "text/latex": [
       "$\\displaystyle h_{c, 1} = 9.25e-18_{-5.40e-18}^{+7.55e-18}$"
      ],
      "text/plain": [
       "<IPython.core.display.Math object>"
      ]
     },
     "metadata": {},
     "output_type": "display_data"
    },
    {
     "data": {
      "text/latex": [
       "$\\displaystyle h_{c, 1, calc} = 9.18e-18_{-5.36e-18}^{+7.49e-18}$"
      ],
      "text/plain": [
       "<IPython.core.display.Math object>"
      ]
     },
     "metadata": {},
     "output_type": "display_data"
    }
   ],
   "source": [
    "## Finally, calculate the characteristic strain\n",
    "hc_1 = hc_constant_n(fidhz, ndm_1, zmin, zmax, min_mchirp, max_mchirp)\n",
    "hc_1_calc = hc_constant_n(fidhz, ndm_1_calc, zmin, zmax, min_mchirp_calc, max_mchirp_calc)\n",
    "display(Math(r\"h_{{c, 1}} = {0:.2e}_{{-{1:.2e}}}^{{+{2:.2e}}}\".format(hc_1[1, 0].value,\n",
    "                                                             hc_1[1, 0].value - hc_1[0, 0].value,\n",
    "                                                             hc_1[2, 0].value - hc_1[1, 0].value)))\n",
    "display(Math(r\"h_{{c, 1, calc}} = {0:.2e}_{{-{1:.2e}}}^{{+{2:.2e}}}\".format(hc_1_calc[1, 0].value,\n",
    "                                                             hc_1_calc[1, 0].value - hc_1_calc[0, 0].value,\n",
    "                                                             hc_1_calc[2, 0].value - hc_1_calc[1, 0].value)))"
   ]
  },
  {
   "cell_type": "markdown",
   "metadata": {},
   "source": [
    "## Case 2"
   ]
  },
  {
   "cell_type": "code",
   "execution_count": 9,
   "metadata": {
    "collapsed": false,
    "jupyter": {
     "outputs_hidden": false
    }
   },
   "outputs": [],
   "source": [
    "zqso, nz1_, nz2_, nz3_ = np.loadtxt('qso2_num_density.txt', unpack=True) ## each nz gives different eddington ratio\n",
    "## nz1 = L/Ledd = 0.1\n",
    "## nz2 = L/Ledd = 0.3\n",
    "## nz3 = L/Ledd = 1.0\n",
    "nz1_ = u.Quantity(nz1_, 1. / u.Mpc**3) * merger_frac\n",
    "nz2_ = u.Quantity(nz2_, 1. / u.Mpc**3) * merger_frac  # binary comoving number density as function of z\n",
    "nz3_ = u.Quantity(nz3_, 1. / u.Mpc**3) * merger_frac\n",
    "\n",
    "## we made originally callibrated these at z=0.2, so we need to account for that here and instead callibrate at z=0.\n",
    "oh2index = np.where(zqso == 0.2)\n",
    "nz1 = (nz1_[oh2index] - nz1_[0]) + nz1_\n",
    "nz2 = (nz2_[oh2index] - nz2_[0]) + nz2_\n",
    "nz3 = (nz3_[oh2index] - nz3_[0]) + nz3_"
   ]
  },
  {
   "cell_type": "code",
   "execution_count": 10,
   "metadata": {
    "collapsed": false,
    "jupyter": {
     "outputs_hidden": false
    }
   },
   "outputs": [
    {
     "name": "stdout",
     "output_type": "stream",
     "text": [
      "Number density at z=0,  4.2175e-07 1 / Mpc3\n",
      "Total number of galaxies, 1.23e+06\n"
     ]
    }
   ],
   "source": [
    "print(\"Number density at z=0, \", nz2[0])\n",
    "print(\"Total number of galaxies, {0:.2e}\".format(np.sum(nz2) * 0.02 * WMAP9.comoving_volume(1.0)))"
   ]
  },
  {
   "cell_type": "code",
   "execution_count": 11,
   "metadata": {
    "collapsed": false,
    "jupyter": {
     "outputs_hidden": false
    }
   },
   "outputs": [
    {
     "name": "stdout",
     "output_type": "stream",
     "text": [
      "Poisson errors 427.81826234441957 471.2053627104211\n",
      "Errors from Eddington Efficiency 2.7335000249999995e-07 1 / Mpc3 3.53999975e-07 1 / Mpc3\n"
     ]
    },
    {
     "data": {
      "text/latex": [
       "$[1.484 \\times 10^{-7},~4.2175 \\times 10^{-7},~7.7574997 \\times 10^{-7}] \\; \\mathrm{\\frac{1}{Mpc^{3}}}$"
      ],
      "text/plain": [
       "<Quantity [1.48399997e-07, 4.21750000e-07, 7.75749975e-07] 1 / Mpc3>"
      ]
     },
     "execution_count": 11,
     "metadata": {},
     "output_type": "execute_result"
    }
   ],
   "source": [
    "#### Let's calculate the 1 sigma conf. intervals\n",
    "absnumber1 = 826  # where do these numbers come from? Hopkins+ 2007\n",
    "absnumber2 = 449\n",
    "absnumber3 = 158\n",
    "nz1_l, nz1_h = poisson_conf_interval(absnumber1, interval='frequentist-confidence', sigma=1)\n",
    "nz2_l, nz2_h = poisson_conf_interval(absnumber2, interval='frequentist-confidence', sigma=1)\n",
    "nz3_l, nz3_h = poisson_conf_interval(absnumber3, interval='frequentist-confidence', sigma=1)\n",
    "\n",
    "print(\"Poisson errors\", nz2_l, nz2_h)\n",
    "print(\"Errors from Eddington Efficiency\", nz2[0]-nz3[0], nz1[0]-nz2[0])\n",
    "\n",
    "## Notice that the errors associated with not knowing the Eddington efficiency are much larger than the Poisson error.\n",
    "## So, we will simply set the other eddington cases as the 1-sigma errors.\n",
    "\n",
    "nd_2 = np.vstack([nz3, nz2, nz1])\n",
    "nd_2[:,0]"
   ]
  },
  {
   "cell_type": "markdown",
   "metadata": {},
   "source": [
    "The above is a factor of 2 higher than what is quoted in Goulding+ 2019. Why? Is this including less massive binaries? Or is this number a prediction for ALL QSOs (merger fraction accounted for above)?"
   ]
  },
  {
   "cell_type": "code",
   "execution_count": 12,
   "metadata": {
    "collapsed": false,
    "jupyter": {
     "outputs_hidden": false
    }
   },
   "outputs": [
    {
     "data": {
      "text/latex": [
       "$\\displaystyle n_{2} = 9.79e-17_{-6.34e-17}^{+8.21e-17}\\,M_{\\odot}^{-1} Mpc^{-3}$"
      ],
      "text/plain": [
       "<IPython.core.display.Math object>"
      ]
     },
     "metadata": {},
     "output_type": "display_data"
    },
    {
     "data": {
      "text/latex": [
       "$\\displaystyle n_{2, calc} = 9.88e-17_{-6.40e-17}^{+8.29e-17}\\,M_{\\odot}^{-1} Mpc^{-3}$"
      ],
      "text/plain": [
       "<IPython.core.display.Math object>"
      ]
     },
     "metadata": {},
     "output_type": "display_data"
    }
   ],
   "source": [
    "## For this case, we are again assuming that N(M) is constant. So, we compute number density/mass the same as before\n",
    "DeltaM = max_mchirp - min_mchirp\n",
    "DeltaM_calc = max_mchirp_calc - min_mchirp_calc\n",
    "ndm_2 = nd_2 / DeltaM\n",
    "ndm_2_calc = nd_2 / DeltaM_calc\n",
    "display(Math(r\"n_{{2}} = {0:.2e}_{{-{1:.2e}}}^{{+{2:.2e}}}\\,M_{{\\odot}}^{{-1}} Mpc^{{-3}}\".format(ndm_2[1, 0].value,\n",
    "                                                             ndm_2[1, 0].value - ndm_2[0, 0].value,\n",
    "                                                             ndm_2[2, 0].value - ndm_2[1, 0].value)))\n",
    "display(Math(r\"n_{{2, calc}} = {0:.2e}_{{-{1:.2e}}}^{{+{2:.2e}}}\\,M_{{\\odot}}^{{-1}} Mpc^{{-3}}\".format(ndm_2_calc[1, 0].value,\n",
    "                                                             ndm_2_calc[1, 0].value - ndm_2_calc[0, 0].value,\n",
    "                                                             ndm_2_calc[2, 0].value - ndm_2_calc[1, 0].value)))"
   ]
  },
  {
   "cell_type": "code",
   "execution_count": 13,
   "metadata": {
    "collapsed": false,
    "jupyter": {
     "outputs_hidden": false
    }
   },
   "outputs": [],
   "source": [
    "### Now, let's fit a spline to our data. This will let us integrate easily.\n",
    "ndm_2_int = UnivariateSpline(zqso, ndm_2[1],s=0)\n",
    "ndm_2_l_int = UnivariateSpline(zqso, ndm_2[0],s=0)\n",
    "ndm_2_h_int = UnivariateSpline(zqso, ndm_2[2],s=0)\n",
    "\n",
    "ndm_2_int_calc = UnivariateSpline(zqso, ndm_2_calc[1],s=0)\n",
    "ndm_2_l_int_calc = UnivariateSpline(zqso, ndm_2_calc[0],s=0)\n",
    "ndm_2_h_int_calc = UnivariateSpline(zqso, ndm_2_calc[2],s=0)"
   ]
  },
  {
   "cell_type": "code",
   "execution_count": 14,
   "metadata": {
    "collapsed": false,
    "jupyter": {
     "outputs_hidden": false
    }
   },
   "outputs": [
    {
     "data": {
      "text/latex": [
       "$\\displaystyle h_{c, 2} = 3.30e-16_{-1.34e-16}^{+1.18e-16}$"
      ],
      "text/plain": [
       "<IPython.core.display.Math object>"
      ]
     },
     "metadata": {},
     "output_type": "display_data"
    },
    {
     "data": {
      "text/latex": [
       "$\\displaystyle h_{c, 2, calc} = 3.28e-16_{-1.33e-16}^{+1.17e-16}$"
      ],
      "text/plain": [
       "<IPython.core.display.Math object>"
      ]
     },
     "metadata": {},
     "output_type": "display_data"
    }
   ],
   "source": [
    "## Ok, now we can *finally* get the characteristic strain for this case.\n",
    "hc_2 = hc_with_nz(fidhz, ndm_2_int, zmin, zmax, min_mchirp, max_mchirp)\n",
    "hc_2_l = hc_with_nz(fidhz, ndm_2_l_int, zmin, zmax, min_mchirp, max_mchirp)\n",
    "hc_2_h = hc_with_nz(fidhz, ndm_2_h_int, zmin, zmax, min_mchirp, max_mchirp)\n",
    "\n",
    "hc_2_calc = hc_with_nz(fidhz, ndm_2_int_calc, zmin, zmax, min_mchirp_calc, max_mchirp_calc)\n",
    "hc_2_l_calc = hc_with_nz(fidhz, ndm_2_l_int_calc, zmin, zmax, min_mchirp_calc, max_mchirp_calc)\n",
    "hc_2_h_calc = hc_with_nz(fidhz, ndm_2_h_int_calc, zmin, zmax, min_mchirp_calc, max_mchirp_calc)\n",
    "\n",
    "display(Math(r\"h_{{c, 2}} = {0:.2e}_{{-{1:.2e}}}^{{+{2:.2e}}}\".format(hc_2.value,\n",
    "                                                             hc_2.value - hc_2_l.value,\n",
    "                                                             hc_2_h.value - hc_2.value)))\n",
    "display(Math(r\"h_{{c, 2, calc}} = {0:.2e}_{{-{1:.2e}}}^{{+{2:.2e}}}\".format(hc_2_calc.value,\n",
    "                                                             hc_2_calc.value - hc_2_l_calc.value,\n",
    "                                                             hc_2_h_calc.value - hc_2_calc.value)))"
   ]
  },
  {
   "cell_type": "markdown",
   "metadata": {},
   "source": [
    "## Case 3"
   ]
  },
  {
   "cell_type": "code",
   "execution_count": 15,
   "metadata": {
    "collapsed": false,
    "jupyter": {
     "outputs_hidden": false
    }
   },
   "outputs": [
    {
     "data": {
      "text/latex": [
       "$\\displaystyle n_{3} = 9.79e-17_{-6.34e-17}^{+8.21e-17}\\,M_{\\odot}^{-1} Mpc^{-3}$"
      ],
      "text/plain": [
       "<IPython.core.display.Math object>"
      ]
     },
     "metadata": {},
     "output_type": "display_data"
    },
    {
     "data": {
      "text/latex": [
       "$\\displaystyle n_{3, calc} = 9.88e-17_{-6.40e-17}^{+8.29e-17}\\,M_{\\odot}^{-1} Mpc^{-3}$"
      ],
      "text/plain": [
       "<IPython.core.display.Math object>"
      ]
     },
     "metadata": {},
     "output_type": "display_data"
    }
   ],
   "source": [
    "## We start with the same n(z) as in case 2.\n",
    "ndm_3 = ndm_2\n",
    "ndm_3_calc = ndm_2_calc\n",
    "display(Math(r\"n_{{3}} = {0:.2e}_{{-{1:.2e}}}^{{+{2:.2e}}}\\,M_{{\\odot}}^{{-1}} Mpc^{{-3}}\".format(ndm_3[1, 0].value,\n",
    "                                                             ndm_3[1, 0].value - ndm_3[0, 0].value,\n",
    "                                                             ndm_3[2, 0].value - ndm_3[1, 0].value)))\n",
    "display(Math(r\"n_{{3, calc}} = {0:.2e}_{{-{1:.2e}}}^{{+{2:.2e}}}\\,M_{{\\odot}}^{{-1}} Mpc^{{-3}}\".format(ndm_3_calc[1, 0].value,\n",
    "                                                             ndm_3_calc[1, 0].value - ndm_3_calc[0, 0].value,\n",
    "                                                             ndm_3_calc[2, 0].value - ndm_3_calc[1, 0].value)))"
   ]
  },
  {
   "cell_type": "code",
   "execution_count": 16,
   "metadata": {},
   "outputs": [],
   "source": [
    "## Let's load the mass function\n",
    "logMbh,logMbhdNdMbh,lo16th,up84th = np.loadtxt('marconi_num_density.txt', unpack=True, delimiter=',')\n",
    "massmask = logMbh >= 8.\n",
    "mbhdNdMbh = 10**logMbhdNdMbh[massmask]\n",
    "mass = 10**logMbh[massmask]\n",
    "mbhdNdMbh_l = 10**lo16th[massmask]\n",
    "mbhdNdMbh_h = 10**up84th[massmask]\n",
    "\n",
    "dNdMbh = mbhdNdMbh/(mass)\n",
    "dNdMbh_l = mbhdNdMbh_l/(mass)\n",
    "dNdMbh_h = mbhdNdMbh_h/(mass)"
   ]
  },
  {
   "cell_type": "code",
   "execution_count": 17,
   "metadata": {
    "collapsed": false,
    "jupyter": {
     "outputs_hidden": false
    }
   },
   "outputs": [],
   "source": [
    "## now get p(M) -- first find normalization constant\n",
    "## we want the integral over dNdMbh = ndm_2\n",
    "norm = cumtrapz(dNdMbh / ndm_2[1,0], mass)[-1]\n",
    "norm_h = cumtrapz(dNdMbh_h / ndm_2[1,0], mass)[-1]\n",
    "norm_l = cumtrapz(dNdMbh_l / ndm_2[1,0], mass)[-1]\n",
    "nmbh = dNdMbh * norm\n",
    "nmbh_h = dNdMbh_h * norm_h\n",
    "nmbh_l = dNdMbh_l * norm_l\n",
    "\n",
    "## get spline\n",
    "nmbh_int = UnivariateSpline(mass, nmbh, s=0)\n",
    "nmbh_h_int = UnivariateSpline(mass, nmbh_h, s=0)\n",
    "nmbh_l_int = UnivariateSpline(mass, nmbh_l, s=0)\n",
    "\n",
    "norm_calc = cumtrapz(dNdMbh / ndm_2_calc[1,0], mass)[-1]\n",
    "norm_h_calc = cumtrapz(dNdMbh_h / ndm_2_calc[1,0],mass)[-1]\n",
    "norm_l_calc = cumtrapz(dNdMbh_l / ndm_2_calc[1,0],mass)[-1]\n",
    "nmbh_calc = dNdMbh * norm_calc\n",
    "nmbh_h_calc = dNdMbh_h * norm_h_calc\n",
    "nmbh_l_calc = dNdMbh_l * norm_l_calc\n",
    "\n",
    "## get spline\n",
    "nmbh_int_calc = UnivariateSpline(mass, nmbh_calc, s=0)\n",
    "nmbh_h_int_calc = UnivariateSpline(mass, nmbh_h_calc, s=0)\n",
    "nmbh_l_int_calc = UnivariateSpline(mass, nmbh_l_calc, s=0)"
   ]
  },
  {
   "cell_type": "code",
   "execution_count": 18,
   "metadata": {
    "collapsed": false,
    "jupyter": {
     "outputs_hidden": false
    }
   },
   "outputs": [
    {
     "data": {
      "text/latex": [
       "$\\displaystyle h_{c, 3} = 1.06352e-16_{-6.77e-17}^{+1.17641e-16}$"
      ],
      "text/plain": [
       "<IPython.core.display.Math object>"
      ]
     },
     "metadata": {},
     "output_type": "display_data"
    },
    {
     "data": {
      "text/latex": [
       "$\\displaystyle h_{c, 3, calc} = 1.06027e-16_{-6.74e-17}^{+1.17686e-16}$"
      ],
      "text/plain": [
       "<IPython.core.display.Math object>"
      ]
     },
     "metadata": {},
     "output_type": "display_data"
    }
   ],
   "source": [
    "## finally, get the characteristic strain\n",
    "# hc_3 = hc_with_nzm(fidhz, ndm_2_int, nmbh_int, zmin, zmax, min_mchirp, max_mchirp)\n",
    "# hc_3_h = hc_with_nzm(fidhz, ndm_2_h_int, nmbh_h_int, zmin, zmax, min_mchirp, max_mchirp)\n",
    "# hc_3_l = hc_with_nzm(fidhz, ndm_2_l_int, nmbh_l_int, zmin, zmax, min_mchirp, max_mchirp)\n",
    "# print(hc_3_l)\n",
    "# print(hc_3)\n",
    "# print(hc_3_h)\n",
    "\n",
    "hc_3 = hc_with_nzm(fidhz, ndm_2_int, nmbh_int, zmin, zmax, min_mchirp, max_mchirp)\n",
    "hc_3_h = hc_with_nzm(fidhz, ndm_2_h_int, nmbh_h_int, zmin, zmax, min_mchirp, max_mchirp)\n",
    "hc_3_l = hc_with_nzm(fidhz, ndm_2_l_int, nmbh_l_int, zmin, zmax, min_mchirp, max_mchirp)\n",
    "\n",
    "hc_3_calc = hc_with_nzm(fidhz, ndm_2_int_calc, nmbh_int_calc, zmin, zmax, min_mchirp_calc, max_mchirp_calc)\n",
    "hc_3_h_calc = hc_with_nzm(fidhz, ndm_2_h_int_calc, nmbh_h_int_calc, zmin, zmax, min_mchirp_calc, max_mchirp_calc)\n",
    "hc_3_l_calc = hc_with_nzm(fidhz, ndm_2_l_int_calc, nmbh_l_int_calc, zmin, zmax, min_mchirp_calc, max_mchirp_calc)\n",
    "\n",
    "display(Math(r\"h_{{c, 3}} = {0:.5e}_{{-{1:.2e}}}^{{+{2:.5e}}}\".format(hc_3.value,\n",
    "                                                             hc_3.value - hc_3_l.value,\n",
    "                                                             hc_3_h.value - hc_3.value)))\n",
    "display(Math(r\"h_{{c, 3, calc}} = {0:.5e}_{{-{1:.2e}}}^{{+{2:.5e}}}\".format(hc_3_calc.value,\n",
    "                                                             hc_3_calc.value - hc_3_l_calc.value,\n",
    "                                                             hc_3_h_calc.value - hc_3_calc.value)))"
   ]
  },
  {
   "cell_type": "markdown",
   "metadata": {},
   "source": [
    "## Plots"
   ]
  },
  {
   "cell_type": "code",
   "execution_count": 19,
   "metadata": {
    "collapsed": false,
    "jupyter": {
     "outputs_hidden": false
    }
   },
   "outputs": [
    {
     "name": "stderr",
     "output_type": "stream",
     "text": [
      "<ipython-input-19-bab2469ce515>:54: MatplotlibDeprecationWarning: Support for passing a (n, 1)-shaped error array to errorbar() is deprecated since Matplotlib 3.1 and will be removed in 3.3; pass a 1D array instead.\n",
      "  ax[2].errorbar(fidhz.value, hc_1[1],yerr=[[hc_1[1]-hc_1[0]],[hc_1[2]-hc_1[1]]], fmt='o',\n"
     ]
    },
    {
     "data": {
      "image/png": "[encoded data removed]",
      "text/plain": [
       "<Figure size 2160x576 with 3 Axes>"
      ]
     },
     "metadata": {},
     "output_type": "display_data"
    }
   ],
   "source": [
    "f, ax = plt.subplots(1,3,figsize=(30,8))\n",
    "fsize = 36\n",
    "legendfsize = 24\n",
    "fsize2 = 20\n",
    "ticksize = 28\n",
    "ax[0].tick_params(labelsize = ticksize)\n",
    "ax[1].tick_params(labelsize = ticksize)\n",
    "ax[2].tick_params(labelsize = ticksize)\n",
    "\n",
    "## for n(z) plot\n",
    "zmask = zqso<=1.0\n",
    "zlen = len(zqso[zmask])\n",
    "\n",
    "##### Number density v redshift\n",
    "ax[0].fill_between(zqso[zmask], nd_2[0][zmask], nd_2[2][zmask], edgecolor='black',hatch='\\\\', linewidth=3, facecolor='none')\n",
    "ax[0].fill_between(zqso[zmask], nd_2[0][zmask], nd_2[2][zmask], edgecolor=cs[2], facecolor='none', linewidth=3, hatch='/')\n",
    "ax[0].plot(zqso[zmask], nd_2[1][zmask], color=cs[2],label='Optimistic', linewidth=3)\n",
    "ax[0].fill_between(zqso[zmask], nd_2[0][zmask], nd_2[2][zmask], color=cs[2], alpha=0.4)\n",
    "ax[0].plot(zqso[zmask], nd_2[1][zmask], color='black', linestyle='solid', label='Best', linewidth=3)\n",
    "ax[0].fill_between(zqso[zmask], nd_2[0][zmask], nd_2[2][zmask], color='none', edgecolor='black', hatch='\\\\')\n",
    "ax[0].plot(zqso[zmask], nd_1[1]*np.ones((zlen)),c=cs[5], label='Pessimistic', linewidth=3)\n",
    "ax[0].fill_between(zqso[zmask], nd_1[0]*np.ones((zlen)), nd_1[2]*np.ones((zlen)), color=cs[5], alpha=0.3)\n",
    "ax[0].legend(fontsize=legendfsize)\n",
    "ax[0].set_yscale('log')\n",
    "ax[0].set_xlabel(r'Redshift',fontsize=fsize)\n",
    "ax[0].set_ylabel(r'$n(z)\\ [\\rm{\\#/Mpc}^3]$',fontsize=fsize)\n",
    "\n",
    "##### pdf for mass\n",
    "logMwidth = np.log10(DeltaM.value)\n",
    "ax[1].plot(mass, 1./logMwidth*np.ones((len(mass))), color=cs[5], label='Pessimistic', linewidth=7)\n",
    "ax[1].plot(mass, 1./logMwidth*np.ones((len(mass))), color=cs[2],label='Optimistic', linewidth=7)\n",
    "ax[1].plot(mass, nmbh, \n",
    "               color='black', label='Best', linewidth=3)\n",
    "ax[1].fill_between(mass,nmbh_l, nmbh_h, color='black',\n",
    "                  alpha =0.3)\n",
    "\n",
    "ax[1].plot(mass, 1./logMwidth*np.ones((len(mass))), color=cs[5], linestyle='dashed', linewidth=7)\n",
    "ax[1].set_xlabel(r'$M_{\\rm{BH}}\\ [M_{\\odot}]$',fontsize=fsize)\n",
    "ax[1].set_ylabel(r'$p(M_{\\rm{BH}})$',fontsize=fsize);\n",
    "ax[1].set_xscale('log')\n",
    "ax[1].set_yscale('log')\n",
    "ax[1].set_xlim([1e8, 1e10])\n",
    "handles, labels = ax[1].get_legend_handles_labels()\n",
    "order = [1,2,0]\n",
    "ax[1].legend([handles[idx] for idx in order],[labels[idx] for idx in order],fontsize=legendfsize)\n",
    "\n",
    "# ##### LIMITS\n",
    "ax[2].loglog(freq, ptalimit, color=cs[3],linewidth=3)\n",
    "ax[2].loglog(freq, 1.e-16*(freq/fidhz)**(-2./3.), color='black', linestyle='dashed',  linewidth=3)\n",
    "ax[2].text(1.1e-9, 3.05e-16,'Theoretical GWB Floor', fontsize=fsize2, rotation=-20)\n",
    "ax[2].errorbar(fidhz.value, hc_2, yerr=[[(hc_2-hc_2_l)], [(hc_2_h-hc_2)]], fmt='o', color=cs[2],markersize=10, label='Optimistic')\n",
    "ax[2].errorbar(fidhz.value, hc_3, yerr=[[(hc_3-hc_3_l)],[(hc_3_h-hc_3)]], fmt='o',markersize=10, color='black',\n",
    "             label='Best')\n",
    "ax[2].errorbar(fidhz.value, hc_1[1],yerr=[[hc_1[1]-hc_1[0]],[hc_1[2]-hc_1[1]]], fmt='o',\n",
    "             markersize=10, color=cs[5], label='Pessimistic')\n",
    "ax[2].loglog(freq, iptafuturelimit, c=cs[3],linewidth=3, linestyle='dashed')\n",
    "ax[2].text(1.1e-9, 1.3e-15, r'IPTA 95\\% Chance\\\\ of Detection by 2024', rotation=-20,fontsize=fsize2)\n",
    "ax[2].scatter(fidhz.value, 6.1e-17, color=cs[0], marker='^', s=150, facecolor='none', linewidth=3)\n",
    "ax[2].text(fidhz.value-1.75e-8, 6.01e-17, 'OJ 287', fontsize=fsize2)\n",
    "ax[2].fill_between(freq, ptalimit, 1.e-12*np.ones(len(freq)),alpha=0.3, color=cs[3])\n",
    "ax[2].annotate('NANOGrav Upper Limit', xy=(2e-8, 6.e-16), rotation=-21,fontsize=fsize2)\n",
    "# ax[2].legend(loc='lower right', frameon=True, framealpha=1.0, edgecolor='black', fontsize=legendfsize)\n",
    "ax[2].legend(loc='lower right',fontsize=legendfsize)\n",
    "ax[2].set_xlabel(r'Frequency [Hz]',fontsize=fsize)\n",
    "ax[2].set_ylabel(r'Characteristic Strain, $h_c(f)$',fontsize=fsize)\n",
    "ax[2].set_xlim([1.e-9, 5.e-7])\n",
    "ax[2].set_ylim([2.e-18, 1.e-14])\n",
    "plt.tight_layout()\n",
    "plt.savefig('stochasticgwb_limits_3panel.png', dpi=500)"
   ]
  },
  {
   "cell_type": "code",
   "execution_count": 20,
   "metadata": {},
   "outputs": [],
   "source": [
    "# from astropy import uncertainty as unc\n",
    "N_mingarelli = 91.\n",
    "D_mingarelli = 225. * u.Mpc\n",
    "\n",
    "z_mingarelli = z_at_value(WMAP9.angular_diameter_distance, D_mingarelli, zmax=1.)"
   ]
  },
  {
   "cell_type": "code",
   "execution_count": 21,
   "metadata": {},
   "outputs": [
    {
     "name": "stdout",
     "output_type": "stream",
     "text": [
      "nd_mingeralli:  1.6215061148339906e-06 1 / Mpc3\n",
      "totn_mingarelli:  258353.98309388288\n"
     ]
    }
   ],
   "source": [
    "vol = WMAP9.comoving_volume(z_mingarelli)\n",
    "nd_mingarelli = N_mingarelli / vol\n",
    "print(\"nd_mingeralli: \", nd_mingarelli)\n",
    "totn_mingarelli = nd_mingarelli * WMAP9.comoving_volume(zmax)\n",
    "print(\"totn_mingarelli: \", totn_mingarelli)"
   ]
  },
  {
   "cell_type": "code",
   "execution_count": 22,
   "metadata": {},
   "outputs": [
    {
     "data": {
      "text/latex": [
       "$[[2.8012131 \\times 10^{-7}],~\n",
       " [1.6215061 \\times 10^{-6}],~\n",
       " [5.3502025 \\times 10^{-6}]] \\; \\mathrm{\\frac{1}{Mpc^{3}}}$"
      ],
      "text/plain": [
       "<Quantity [[2.80121309e-07],\n",
       "           [1.62150611e-06],\n",
       "           [5.35020249e-06]] 1 / Mpc3>"
      ]
     },
     "execution_count": 22,
     "metadata": {},
     "output_type": "execute_result"
    }
   ],
   "source": [
    "## Let's calculate the 1 sigma conf. intervals -- first just get abs. number in redshift range\n",
    "nd_mingarelli_l, nd_mingarelli_h = poisson_conf_interval(1.0, interval='frequentist-confidence',sigma=1)\n",
    "\n",
    "## Now multiply by num density to get the conf intervals in number density\n",
    "nd_mingarelli_l *= nd_mingarelli\n",
    "nd_mingarelli_h *= nd_mingarelli\n",
    "\n",
    "## Finally, let's stack these together.\n",
    "nd_1_mingarelli = np.vstack([nd_mingarelli_l, nd_mingarelli, nd_mingarelli_h])\n",
    "\n",
    "nd_1_mingarelli"
   ]
  },
  {
   "cell_type": "code",
   "execution_count": 23,
   "metadata": {},
   "outputs": [
    {
     "data": {
      "text/latex": [
       "$\\displaystyle n_{1} = 3.76e-16_{-3.11e-16}^{+8.65e-16}\\,M_{\\odot}^{-1} Mpc^{-3}$"
      ],
      "text/plain": [
       "<IPython.core.display.Math object>"
      ]
     },
     "metadata": {},
     "output_type": "display_data"
    },
    {
     "data": {
      "text/latex": [
       "$\\displaystyle n_{1, calc} = 3.80e-16_{-3.14e-16}^{+8.73e-16}\\,M_{\\odot}^{-1} Mpc^{-3}$"
      ],
      "text/plain": [
       "<IPython.core.display.Math object>"
      ]
     },
     "metadata": {},
     "output_type": "display_data"
    }
   ],
   "source": [
    "## Now calculate the number density/mass for all\n",
    "DeltaM = max_mchirp - min_mchirp\n",
    "DeltaM_calc = max_mchirp_calc - min_mchirp_calc\n",
    "ndm_1_mingarelli = nd_1_mingarelli / DeltaM\n",
    "ndm_1_calc_mingarelli = nd_1_mingarelli / DeltaM_calc\n",
    "display(Math(r\"n_{{1}} = {0:.2e}_{{-{1:.2e}}}^{{+{2:.2e}}}\\,M_{{\\odot}}^{{-1}} Mpc^{{-3}}\".format(ndm_1_mingarelli[1, 0].value,\n",
    "                                                             ndm_1_mingarelli[1, 0].value - ndm_1_mingarelli[0, 0].value,\n",
    "                                                             ndm_1_mingarelli[2, 0].value - ndm_1_mingarelli[1, 0].value)))\n",
    "display(Math(r\"n_{{1, calc}} = {0:.2e}_{{-{1:.2e}}}^{{+{2:.2e}}}\\,M_{{\\odot}}^{{-1}} Mpc^{{-3}}\".format(ndm_1_calc_mingarelli[1, 0].value,\n",
    "                                                             ndm_1_calc_mingarelli[1, 0].value - ndm_1_calc_mingarelli[0, 0].value,\n",
    "                                                             ndm_1_calc_mingarelli[2, 0].value - ndm_1_calc_mingarelli[1, 0].value)))"
   ]
  },
  {
   "cell_type": "code",
   "execution_count": 24,
   "metadata": {},
   "outputs": [
    {
     "data": {
      "text/latex": [
       "$\\displaystyle h_{c, 1} = 2.73e-16_{-1.60e-16}^{+2.23e-16}$"
      ],
      "text/plain": [
       "<IPython.core.display.Math object>"
      ]
     },
     "metadata": {},
     "output_type": "display_data"
    },
    {
     "data": {
      "text/latex": [
       "$\\displaystyle h_{c, 1, calc} = 2.71e-16_{-1.58e-16}^{+2.21e-16}$"
      ],
      "text/plain": [
       "<IPython.core.display.Math object>"
      ]
     },
     "metadata": {},
     "output_type": "display_data"
    }
   ],
   "source": [
    "## Finally, calculate the characteristic strain\n",
    "hc_1_mingarelli = hc_constant_n(fidhz, ndm_1_mingarelli, zmin, zmax, min_mchirp, max_mchirp)\n",
    "hc_1_calc_mingarelli = hc_constant_n(fidhz, ndm_1_calc_mingarelli, zmin, zmax, min_mchirp_calc, max_mchirp_calc)\n",
    "display(Math(r\"h_{{c, 1}} = {0:.2e}_{{-{1:.2e}}}^{{+{2:.2e}}}\".format(hc_1_mingarelli[1, 0].value,\n",
    "                                                             hc_1_mingarelli[1, 0].value - hc_1_mingarelli[0, 0].value,\n",
    "                                                             hc_1_mingarelli[2, 0].value - hc_1_mingarelli[1, 0].value)))\n",
    "display(Math(r\"h_{{c, 1, calc}} = {0:.2e}_{{-{1:.2e}}}^{{+{2:.2e}}}\".format(hc_1_calc_mingarelli[1, 0].value,\n",
    "                                                             hc_1_calc_mingarelli[1, 0].value - hc_1_calc_mingarelli[0, 0].value,\n",
    "                                                             hc_1_calc_mingarelli[2, 0].value - hc_1_calc_mingarelli[1, 0].value)))"
   ]
  },
  {
   "cell_type": "code",
   "execution_count": 25,
   "metadata": {},
   "outputs": [
    {
     "name": "stdout",
     "output_type": "stream",
     "text": [
      "[6.21570911]\n"
     ]
    }
   ],
   "source": [
    "binary_ratio = nd_1_mingarelli[1].value / UnivariateSpline(zqso, nz2_, s=0)(z_mingarelli)\n",
    "print(binary_ratio)\n",
    "\n",
    "nz1_mingarelli = u.Quantity(nz1_, 1. / u.Mpc**3) * binary_ratio\n",
    "nz2_mingarelli = u.Quantity(nz2_, 1. / u.Mpc**3) * binary_ratio\n",
    "nz3_mingarelli = u.Quantity(nz3_, 1. / u.Mpc**3) * binary_ratio"
   ]
  },
  {
   "cell_type": "code",
   "execution_count": 26,
   "metadata": {},
   "outputs": [
    {
     "name": "stdout",
     "output_type": "stream",
     "text": [
      "Number density at z=0,  1.4812865377563552e-06 1 / Mpc3\n",
      "Total number of galaxies, 7.30e+06\n"
     ]
    }
   ],
   "source": [
    "print(\"Number density at z=0, \", nz2_mingarelli[0])\n",
    "print(\"Total number of galaxies, {0:.2e}\".format(np.sum(nz2_mingarelli) * 0.02 * WMAP9.comoving_volume(zmax)))"
   ]
  },
  {
   "cell_type": "code",
   "execution_count": 27,
   "metadata": {},
   "outputs": [
    {
     "data": {
      "image/png": "[encoded data removed]",
      "text/plain": [
       "<Figure size 720x720 with 1 Axes>"
      ]
     },
     "metadata": {},
     "output_type": "display_data"
    }
   ],
   "source": [
    "plt.figure(figsize=(10,10))\n",
    "plt.plot(zqso, nz2_, label=\"Mullaney et al. (2013)\")\n",
    "\n",
    "plt.hlines(nd_1, xmin=zqso[0], xmax=zqso[-1], label=r\"$n_{1}$\")\n",
    "plt.hlines(nd_1_mingarelli[1], xmin=zqso[0], xmax=zqso[-1], colors='g', label=r\"$n_{1, \\text{Mingarelli}}$\")\n",
    "\n",
    "plt.plot(zqso, nz2, label=r\"$n_{2}$\")\n",
    "plt.plot(zqso, nz2_mingarelli, label=r\"$n_{2, \\text{Mingarelli}}$\")\n",
    "\n",
    "plt.legend()\n",
    "plt.show()"
   ]
  },
  {
   "cell_type": "code",
   "execution_count": 28,
   "metadata": {},
   "outputs": [
    {
     "name": "stdout",
     "output_type": "stream",
     "text": [
      "Poisson errors 427.81826234441957 471.2053627104211\n",
      "Errors from Eddington Efficiency 9.600703638788357e-07 1 / Mpc3 1.2433324107024633e-06 1 / Mpc3\n"
     ]
    },
    {
     "data": {
      "text/latex": [
       "$[5.2121617 \\times 10^{-7},~1.4812865 \\times 10^{-6},~2.7246189 \\times 10^{-6}] \\; \\mathrm{\\frac{1}{Mpc^{3}}}$"
      ],
      "text/plain": [
       "<Quantity [5.21216174e-07, 1.48128654e-06, 2.72461895e-06] 1 / Mpc3>"
      ]
     },
     "execution_count": 28,
     "metadata": {},
     "output_type": "execute_result"
    }
   ],
   "source": [
    "#### Let's calculate the 1 sigma conf. intervals\n",
    "absnumber1 = 826  # where do these numbers come from? Hopkins+ 2007\n",
    "absnumber2 = 449\n",
    "absnumber3 = 158\n",
    "nz1_l_mingarelli, nz1_h_mingarelli = poisson_conf_interval(absnumber1, interval='frequentist-confidence', sigma=1)\n",
    "nz2_l_mingarelli, nz2_h_mingarelli = poisson_conf_interval(absnumber2, interval='frequentist-confidence', sigma=1)\n",
    "nz3_l_mingarelli, nz3_h_mingarelli = poisson_conf_interval(absnumber3, interval='frequentist-confidence', sigma=1)\n",
    "\n",
    "print(\"Poisson errors\", nz2_l_mingarelli, nz2_h_mingarelli)\n",
    "print(\"Errors from Eddington Efficiency\", nz2_mingarelli[0]-nz3_mingarelli[0], nz1_mingarelli[0]-nz2_mingarelli[0])\n",
    "\n",
    "## Notice that the errors associated with not knowing the Eddington efficiency are much larger than the Poisson error.\n",
    "## So, we will simply set the other eddington cases as the 1-sigma errors.\n",
    "\n",
    "nd_2_mingarelli = np.vstack([nz3_mingarelli, nz2_mingarelli, nz1_mingarelli])\n",
    "nd_2_mingarelli[:,0]"
   ]
  },
  {
   "cell_type": "code",
   "execution_count": 29,
   "metadata": {},
   "outputs": [
    {
     "data": {
      "text/latex": [
       "$\\displaystyle n_{2} = 3.44e-16_{-2.23e-16}^{+2.89e-16}\\,M_{\\odot}^{-1} Mpc^{-3}$"
      ],
      "text/plain": [
       "<IPython.core.display.Math object>"
      ]
     },
     "metadata": {},
     "output_type": "display_data"
    },
    {
     "data": {
      "text/latex": [
       "$\\displaystyle n_{2, calc} = 3.47e-16_{-2.25e-16}^{+2.91e-16}\\,M_{\\odot}^{-1} Mpc^{-3}$"
      ],
      "text/plain": [
       "<IPython.core.display.Math object>"
      ]
     },
     "metadata": {},
     "output_type": "display_data"
    }
   ],
   "source": [
    "## For this case, we are again assuming that N(M) is constant. So, we compute number density/mass the same as before\n",
    "DeltaM = max_mchirp - min_mchirp\n",
    "DeltaM_calc = max_mchirp_calc - min_mchirp_calc\n",
    "ndm_2_mingarelli = nd_2_mingarelli / DeltaM\n",
    "ndm_2_calc_mingarelli = nd_2_mingarelli / DeltaM_calc\n",
    "display(Math(r\"n_{{2}} = {0:.2e}_{{-{1:.2e}}}^{{+{2:.2e}}}\\,M_{{\\odot}}^{{-1}} Mpc^{{-3}}\".format(ndm_2_mingarelli[1, 0].value,\n",
    "                                                             ndm_2_mingarelli[1, 0].value - ndm_2_mingarelli[0, 0].value,\n",
    "                                                             ndm_2_mingarelli[2, 0].value - ndm_2_mingarelli[1, 0].value)))\n",
    "display(Math(r\"n_{{2, calc}} = {0:.2e}_{{-{1:.2e}}}^{{+{2:.2e}}}\\,M_{{\\odot}}^{{-1}} Mpc^{{-3}}\".format(ndm_2_calc_mingarelli[1, 0].value,\n",
    "                                                             ndm_2_calc_mingarelli[1, 0].value - ndm_2_calc_mingarelli[0, 0].value,\n",
    "                                                             ndm_2_calc_mingarelli[2, 0].value - ndm_2_calc_mingarelli[1, 0].value)))"
   ]
  },
  {
   "cell_type": "code",
   "execution_count": 30,
   "metadata": {},
   "outputs": [],
   "source": [
    "### Now, let's fit a spline to our data. This will let us integrate easily.\n",
    "ndm_2_int_mingarelli = UnivariateSpline(zqso, ndm_2_mingarelli[1],s=0)\n",
    "ndm_2_l_int_mingarelli = UnivariateSpline(zqso, ndm_2_mingarelli[0],s=0)\n",
    "ndm_2_h_int_mingarelli = UnivariateSpline(zqso, ndm_2_mingarelli[2],s=0)\n",
    "\n",
    "ndm_2_int_calc_mingarelli = UnivariateSpline(zqso, ndm_2_calc_mingarelli[1],s=0)\n",
    "ndm_2_l_int_calc_mingarelli = UnivariateSpline(zqso, ndm_2_calc_mingarelli[0],s=0)\n",
    "ndm_2_h_int_calc_mingarelli = UnivariateSpline(zqso, ndm_2_calc_mingarelli[2],s=0)"
   ]
  },
  {
   "cell_type": "code",
   "execution_count": 31,
   "metadata": {},
   "outputs": [
    {
     "data": {
      "text/latex": [
       "$\\displaystyle h_{c, 2} = 7.81e-16_{-3.18e-16}^{+2.78e-16}$"
      ],
      "text/plain": [
       "<IPython.core.display.Math object>"
      ]
     },
     "metadata": {},
     "output_type": "display_data"
    },
    {
     "data": {
      "text/latex": [
       "$\\displaystyle h_{c, 2, calc} = 7.75e-16_{-3.15e-16}^{+2.76e-16}$"
      ],
      "text/plain": [
       "<IPython.core.display.Math object>"
      ]
     },
     "metadata": {},
     "output_type": "display_data"
    }
   ],
   "source": [
    "## Ok, now we can *finally* get the characteristic strain for this case.\n",
    "hc_2_mingarelli = hc_with_nz(fidhz, ndm_2_int_mingarelli, zmin, zmax, min_mchirp, max_mchirp)\n",
    "hc_2_l_mingarelli = hc_with_nz(fidhz, ndm_2_l_int_mingarelli, zmin, zmax, min_mchirp, max_mchirp)\n",
    "hc_2_h_mingarelli = hc_with_nz(fidhz, ndm_2_h_int_mingarelli, zmin, zmax, min_mchirp, max_mchirp)\n",
    "\n",
    "hc_2_calc_mingarelli = hc_with_nz(fidhz, ndm_2_int_calc_mingarelli, zmin, zmax, min_mchirp_calc, max_mchirp_calc)\n",
    "hc_2_l_calc_mingarelli = hc_with_nz(fidhz, ndm_2_l_int_calc_mingarelli, zmin, zmax, min_mchirp_calc, max_mchirp_calc)\n",
    "hc_2_h_calc_mingarelli = hc_with_nz(fidhz, ndm_2_h_int_calc_mingarelli, zmin, zmax, min_mchirp_calc, max_mchirp_calc)\n",
    "\n",
    "display(Math(r\"h_{{c, 2}} = {0:.2e}_{{-{1:.2e}}}^{{+{2:.2e}}}\".format(hc_2_mingarelli.value,\n",
    "                                                             hc_2_mingarelli.value - hc_2_l_mingarelli.value,\n",
    "                                                             hc_2_h_mingarelli.value - hc_2_mingarelli.value)))\n",
    "display(Math(r\"h_{{c, 2, calc}} = {0:.2e}_{{-{1:.2e}}}^{{+{2:.2e}}}\".format(hc_2_calc_mingarelli.value,\n",
    "                                                             hc_2_calc_mingarelli.value - hc_2_l_calc_mingarelli.value,\n",
    "                                                             hc_2_h_calc_mingarelli.value - hc_2_calc_mingarelli.value)))"
   ]
  },
  {
   "cell_type": "code",
   "execution_count": 32,
   "metadata": {
    "collapsed": false,
    "jupyter": {
     "outputs_hidden": false
    }
   },
   "outputs": [
    {
     "data": {
      "text/latex": [
       "$\\displaystyle n_{3} = 9.79e-17_{-6.34e-17}^{+8.21e-17}\\,M_{\\odot}^{-1} Mpc^{-3}$"
      ],
      "text/plain": [
       "<IPython.core.display.Math object>"
      ]
     },
     "metadata": {},
     "output_type": "display_data"
    },
    {
     "data": {
      "text/latex": [
       "$\\displaystyle n_{3, calc} = 9.88e-17_{-6.40e-17}^{+8.29e-17}\\,M_{\\odot}^{-1} Mpc^{-3}$"
      ],
      "text/plain": [
       "<IPython.core.display.Math object>"
      ]
     },
     "metadata": {},
     "output_type": "display_data"
    }
   ],
   "source": [
    "## We start with the same n(z) as in case 2.\n",
    "ndm_3_mingarelli = ndm_2_mingarelli\n",
    "ndm_3_calc_mingarelli = ndm_2_calc_mingarelli\n",
    "display(Math(r\"n_{{3}} = {0:.2e}_{{-{1:.2e}}}^{{+{2:.2e}}}\\,M_{{\\odot}}^{{-1}} Mpc^{{-3}}\".format(ndm_3[1, 0].value,\n",
    "                                                             ndm_3[1, 0].value - ndm_3[0, 0].value,\n",
    "                                                             ndm_3[2, 0].value - ndm_3[1, 0].value)))\n",
    "display(Math(r\"n_{{3, calc}} = {0:.2e}_{{-{1:.2e}}}^{{+{2:.2e}}}\\,M_{{\\odot}}^{{-1}} Mpc^{{-3}}\".format(ndm_3_calc[1, 0].value,\n",
    "                                                             ndm_3_calc[1, 0].value - ndm_3_calc[0, 0].value,\n",
    "                                                             ndm_3_calc[2, 0].value - ndm_3_calc[1, 0].value)))"
   ]
  },
  {
   "cell_type": "code",
   "execution_count": 33,
   "metadata": {},
   "outputs": [],
   "source": [
    "## Let's load the mass function\n",
    "logMbh,logMbhdNdMbh,lo16th,up84th = np.loadtxt('marconi_num_density.txt', unpack=True, delimiter=',')\n",
    "massmask = logMbh >= 8.\n",
    "mbhdNdMbh = 10**logMbhdNdMbh[massmask]\n",
    "mass = 10**logMbh[massmask]\n",
    "mbhdNdMbh_l = 10**lo16th[massmask]\n",
    "mbhdNdMbh_h = 10**up84th[massmask]\n",
    "\n",
    "dNdMbh = mbhdNdMbh/(mass)\n",
    "dNdMbh_l = mbhdNdMbh_l/(mass)\n",
    "dNdMbh_h = mbhdNdMbh_h/(mass)"
   ]
  },
  {
   "cell_type": "code",
   "execution_count": 34,
   "metadata": {
    "collapsed": false,
    "jupyter": {
     "outputs_hidden": false
    }
   },
   "outputs": [],
   "source": [
    "## now get p(M) -- first find normalization constant\n",
    "## we want the integral over dNdMbh = ndm_2\n",
    "norm_mingarelli = cumtrapz(dNdMbh / ndm_3_mingarelli[1,0], mass)[-1]\n",
    "norm_h_mingarelli = cumtrapz(dNdMbh_h / ndm_3_mingarelli[1,0], mass)[-1]\n",
    "norm_l_mingarelli = cumtrapz(dNdMbh_l / ndm_3_mingarelli[1,0], mass)[-1]\n",
    "nmbh_mingarelli = dNdMbh * norm_mingarelli\n",
    "nmbh_h_mingarelli = dNdMbh_h * norm_h_mingarelli\n",
    "nmbh_l_mingarelli = dNdMbh_l * norm_l_mingarelli\n",
    "\n",
    "## get spline\n",
    "nmbh_int_mingarelli = UnivariateSpline(mass, nmbh_mingarelli, s=0)\n",
    "nmbh_h_int_mingarelli = UnivariateSpline(mass, nmbh_h_mingarelli, s=0)\n",
    "nmbh_l_int_mingarelli = UnivariateSpline(mass, nmbh_l_mingarelli, s=0)\n",
    "\n",
    "norm_calc_mingarelli = cumtrapz(dNdMbh / ndm_2_calc_mingarelli[1,0], mass)[-1]\n",
    "norm_h_calc_mingarelli = cumtrapz(dNdMbh_h / ndm_2_calc_mingarelli[1,0],mass)[-1]\n",
    "norm_l_calc_mingarelli = cumtrapz(dNdMbh_l / ndm_2_calc_mingarelli[1,0],mass)[-1]\n",
    "nmbh_calc_mingarelli = dNdMbh * norm_calc_mingarelli\n",
    "nmbh_h_calc_mingarelli = dNdMbh_h * norm_h_calc_mingarelli\n",
    "nmbh_l_calc_mingarelli = dNdMbh_l * norm_l_calc_mingarelli\n",
    "\n",
    "## get spline\n",
    "nmbh_int_calc_mingarelli = UnivariateSpline(mass, nmbh_calc_mingarelli, s=0)\n",
    "nmbh_h_int_calc_mingarelli = UnivariateSpline(mass, nmbh_h_calc_mingarelli, s=0)\n",
    "nmbh_l_int_calc_mingarelli = UnivariateSpline(mass, nmbh_l_calc_mingarelli, s=0)"
   ]
  },
  {
   "cell_type": "code",
   "execution_count": 35,
   "metadata": {
    "collapsed": false,
    "jupyter": {
     "outputs_hidden": false
    }
   },
   "outputs": [
    {
     "data": {
      "text/latex": [
       "$\\displaystyle h_{c, 3} = 1.34214e-16_{-8.55e-17}^{+1.48461e-16}$"
      ],
      "text/plain": [
       "<IPython.core.display.Math object>"
      ]
     },
     "metadata": {},
     "output_type": "display_data"
    },
    {
     "data": {
      "text/latex": [
       "$\\displaystyle h_{c, 3, calc} = 1.33804e-16_{-8.51e-17}^{+1.48518e-16}$"
      ],
      "text/plain": [
       "<IPython.core.display.Math object>"
      ]
     },
     "metadata": {},
     "output_type": "display_data"
    }
   ],
   "source": [
    "hc_3_mingarelli = hc_with_nzm(fidhz, ndm_2_int_mingarelli, nmbh_int_mingarelli, zmin, zmax, min_mchirp, max_mchirp)\n",
    "hc_3_h_mingarelli = hc_with_nzm(fidhz, ndm_2_h_int_mingarelli, nmbh_h_int_mingarelli, zmin, zmax, min_mchirp, max_mchirp)\n",
    "hc_3_l_mingarelli = hc_with_nzm(fidhz, ndm_2_l_int_mingarelli, nmbh_l_int_mingarelli, zmin, zmax, min_mchirp, max_mchirp)\n",
    "\n",
    "hc_3_calc_mingarelli = hc_with_nzm(fidhz, ndm_2_int_calc_mingarelli, nmbh_int_calc_mingarelli, zmin, zmax, min_mchirp_calc, max_mchirp_calc)\n",
    "hc_3_h_calc_mingarelli = hc_with_nzm(fidhz, ndm_2_h_int_calc_mingarelli, nmbh_h_int_calc_mingarelli, zmin, zmax, min_mchirp_calc, max_mchirp_calc)\n",
    "hc_3_l_calc_mingarelli = hc_with_nzm(fidhz, ndm_2_l_int_calc_mingarelli, nmbh_l_int_calc_mingarelli, zmin, zmax, min_mchirp_calc, max_mchirp_calc)\n",
    "\n",
    "display(Math(r\"h_{{c, 3}} = {0:.5e}_{{-{1:.2e}}}^{{+{2:.5e}}}\".format(hc_3_mingarelli.value,\n",
    "                                                             hc_3_mingarelli.value - hc_3_l_mingarelli.value,\n",
    "                                                             hc_3_h_mingarelli.value - hc_3_mingarelli.value)))\n",
    "display(Math(r\"h_{{c, 3, calc}} = {0:.5e}_{{-{1:.2e}}}^{{+{2:.5e}}}\".format(hc_3_calc_mingarelli.value,\n",
    "                                                             hc_3_calc_mingarelli.value - hc_3_l_calc_mingarelli.value,\n",
    "                                                             hc_3_h_calc_mingarelli.value - hc_3_calc_mingarelli.value)))"
   ]
  },
  {
   "cell_type": "code",
   "execution_count": null,
   "metadata": {},
   "outputs": [],
   "source": []
  }
 ],
 "metadata": {
  "kernelspec": {
   "display_name": "Python 3",
   "language": "python",
   "name": "python3"
  },
  "language_info": {
   "codemirror_mode": {
    "name": "ipython",
    "version": 3
   },
   "file_extension": ".py",
   "mimetype": "text/x-python",
   "name": "python",
   "nbconvert_exporter": "python",
   "pygments_lexer": "ipython3",
   "version": "3.8.1"
  },
  "toc-showmarkdowntxt": false
 },
 "nbformat": 4,
 "nbformat_minor": 4
}
